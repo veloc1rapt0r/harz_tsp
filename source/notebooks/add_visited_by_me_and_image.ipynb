{
 "cells": [
  {
   "cell_type": "markdown",
   "metadata": {},
   "source": [
    "This notebok takes the excel list of all stamps, copares to current hiking journal and sets visited_by_me flag\n",
    "\n",
    "Also looks for all loaded images in the google drive (box images and selfies) and adds these flags too"
   ]
  },
  {
   "cell_type": "code",
   "execution_count": 1,
   "metadata": {},
   "outputs": [
    {
     "name": "stdout",
     "output_type": "stream",
     "text": [
      "PYTHONPATH environment variable:\n",
      "./source\n"
     ]
    }
   ],
   "source": [
    "import os\n",
    "\n",
    "print(\"PYTHONPATH environment variable:\")\n",
    "print(os.environ.get('PYTHONPATH'))\n"
   ]
  },
  {
   "cell_type": "code",
   "execution_count": 2,
   "metadata": {},
   "outputs": [
    {
     "name": "stdout",
     "output_type": "stream",
     "text": [
      "Working directory: /Users/olehbakumenko/Desktop/oleg/Workspaces/PytonWorkspace/harz_tsp/source/notebooks\n",
      "PYTHONPATH env var: ./source\n",
      "sys.path:\n",
      " - /Users/olehbakumenko/Desktop/oleg/Workspaces/PytonWorkspace/harz_tsp/source/notebooks/source\n",
      " - /Users/olehbakumenko/miniforge3/envs/harz_tsp/lib/python310.zip\n",
      " - /Users/olehbakumenko/miniforge3/envs/harz_tsp/lib/python3.10\n",
      " - /Users/olehbakumenko/miniforge3/envs/harz_tsp/lib/python3.10/lib-dynload\n",
      " - \n",
      " - /Users/olehbakumenko/miniforge3/envs/harz_tsp/lib/python3.10/site-packages\n"
     ]
    }
   ],
   "source": [
    "import os\n",
    "import sys\n",
    "from pathlib import Path\n",
    "\n",
    "print(\"Working directory:\", Path().resolve())\n",
    "print(\"PYTHONPATH env var:\", os.environ.get(\"PYTHONPATH\"))\n",
    "print(\"sys.path:\")\n",
    "for p in sys.path:\n",
    "    print(\" -\", p)\n"
   ]
  },
  {
   "cell_type": "code",
   "execution_count": 6,
   "metadata": {},
   "outputs": [
    {
     "ename": "ModuleNotFoundError",
     "evalue": "No module named 'utils'",
     "output_type": "error",
     "traceback": [
      "\u001b[0;31m---------------------------------------------------------------------------\u001b[0m",
      "\u001b[0;31mModuleNotFoundError\u001b[0m                       Traceback (most recent call last)",
      "Cell \u001b[0;32mIn[6], line 1\u001b[0m\n\u001b[0;32m----> 1\u001b[0m \u001b[38;5;28;01mimport\u001b[39;00m\u001b[38;5;250m \u001b[39m\u001b[38;5;21;01mutils\u001b[39;00m\u001b[38;5;21;01m.\u001b[39;00m\u001b[38;5;21;01mutilities\u001b[39;00m\u001b[38;5;250m \u001b[39m\u001b[38;5;28;01mas\u001b[39;00m\u001b[38;5;250m \u001b[39m\u001b[38;5;21;01muu\u001b[39;00m\n",
      "\u001b[0;31mModuleNotFoundError\u001b[0m: No module named 'utils'"
     ]
    }
   ],
   "source": [
    "import utils.utilities as uu\n"
   ]
  },
  {
   "cell_type": "code",
   "execution_count": 3,
   "metadata": {},
   "outputs": [
    {
     "ename": "ModuleNotFoundError",
     "evalue": "No module named 'source'",
     "output_type": "error",
     "traceback": [
      "\u001b[0;31m---------------------------------------------------------------------------\u001b[0m",
      "\u001b[0;31mModuleNotFoundError\u001b[0m                       Traceback (most recent call last)",
      "Cell \u001b[0;32mIn[3], line 8\u001b[0m\n\u001b[1;32m      6\u001b[0m \u001b[38;5;28;01mimport\u001b[39;00m\u001b[38;5;250m \u001b[39m\u001b[38;5;21;01mglob\u001b[39;00m\n\u001b[1;32m      7\u001b[0m \u001b[38;5;28;01mfrom\u001b[39;00m\u001b[38;5;250m \u001b[39m\u001b[38;5;21;01mpathlib\u001b[39;00m\u001b[38;5;250m \u001b[39m\u001b[38;5;28;01mimport\u001b[39;00m Path\n\u001b[0;32m----> 8\u001b[0m \u001b[38;5;28;01mimport\u001b[39;00m\u001b[38;5;250m \u001b[39m\u001b[38;5;21;01msource\u001b[39;00m\u001b[38;5;21;01m.\u001b[39;00m\u001b[38;5;21;01mutils\u001b[39;00m\u001b[38;5;21;01m.\u001b[39;00m\u001b[38;5;21;01mutilities\u001b[39;00m\u001b[38;5;250m \u001b[39m\u001b[38;5;28;01mas\u001b[39;00m\u001b[38;5;250m \u001b[39m\u001b[38;5;21;01muu\u001b[39;00m\n\u001b[1;32m      9\u001b[0m path_to_source \u001b[38;5;241m=\u001b[39m uu\u001b[38;5;241m.\u001b[39mget_root_path()\n",
      "\u001b[0;31mModuleNotFoundError\u001b[0m: No module named 'source'"
     ]
    }
   ],
   "source": [
    "import pandas as pd\n",
    "import os\n",
    "import sys\n",
    "import gpxpy.gpx\n",
    "import gpxpy\n",
    "import glob\n",
    "from pathlib import Path\n",
    "import source.utils.utilities as uu\n",
    "path_to_source = uu.get_root_path()"
   ]
  },
  {
   "cell_type": "code",
   "execution_count": 4,
   "metadata": {},
   "outputs": [],
   "source": [
    "def transform_stamp_name_to_int(name):\n",
    "    \"\"\"\n",
    "    This function takes \"HWN002 Scharfenstein\" and should return 2\n",
    "    \"\"\"\n",
    "    try:\n",
    "        number_str = name.split(\"HWN\")[1][:3]\n",
    "    except:\n",
    "        number_str = -1\n",
    "    return int(number_str)"
   ]
  },
  {
   "cell_type": "markdown",
   "metadata": {},
   "source": [
    "export to excel"
   ]
  },
  {
   "cell_type": "code",
   "execution_count": null,
   "metadata": {},
   "outputs": [],
   "source": [
    "path_to_gpx = Path(path_to_source, 'gpx')\n",
    "all_stamps = pd.read_excel(Path(\n",
    "    path_to_source, 'excel', 'all_stamps.xlsx'))"
   ]
  },
  {
   "cell_type": "markdown",
   "metadata": {},
   "source": [
    "if something does not make sence, most likely next cell was just copy pasted"
   ]
  },
  {
   "cell_type": "code",
   "execution_count": null,
   "metadata": {},
   "outputs": [],
   "source": [
    "# Download the correct list from the google drive called Hiking_journal.xls\n",
    "my_trips_df = pd.read_excel(os.path.join(\n",
    "    path_to_source, 'my_trips', 'Hiking_journal.xlsx'))\n",
    "\n",
    "my_trips_df = my_trips_df[my_trips_df['Nr. stamp'].notna()]\n",
    "\n",
    "# set nr stapms to integer\n",
    "my_trips_df['Nr. stamp'] = my_trips_df['Nr. stamp'].astype(int)\n",
    "\n",
    "all_my_visited_stamps = my_trips_df[\"Place name\"].tolist()\n",
    "all_my_visited_stamps = [transform_stamp_name_to_int(\n",
    "    name) for name in all_my_visited_stamps]"
   ]
  },
  {
   "cell_type": "code",
   "execution_count": 6,
   "metadata": {},
   "outputs": [],
   "source": [
    "all_stamps[\"visited_by_me\"] = 0\n",
    "\n",
    "for i, row in all_stamps.iterrows():\n",
    "    if row[\"number\"] in all_my_visited_stamps:\n",
    "        all_stamps.loc[i, \"visited_by_me\"] = 1\n",
    "    else:\n",
    "        all_stamps.loc[i, \"visited_by_me\"] = 0\n",
    "\n",
    "all_stamps[\"visited_by_me\"] = all_stamps[\"visited_by_me\"].astype(int)"
   ]
  },
  {
   "cell_type": "code",
   "execution_count": 7,
   "metadata": {},
   "outputs": [
    {
     "name": "stdout",
     "output_type": "stream",
     "text": [
      "Number stamp visited by me: 72\n"
     ]
    }
   ],
   "source": [
    "print(f\"Number stamp visited by me: {all_stamps['visited_by_me'].sum()}\")"
   ]
  },
  {
   "cell_type": "code",
   "execution_count": 8,
   "metadata": {},
   "outputs": [
    {
     "name": "stdout",
     "output_type": "stream",
     "text": [
      "67\n",
      "54\n"
     ]
    }
   ],
   "source": [
    "image_folder =  Path(r\"/Users/olehbakumenko/Downloads/Harz/My trips/images\")\n",
    "jpg_files = glob.glob(os.path.join(image_folder, '*.jpg'))\n",
    "only_boxes_imgs = [Path(file) for file in jpg_files if \"_box\" in file and \"So\" not in file]\n",
    "only_selfies_imgs= [Path(file)  for file in jpg_files if \"_selfie\" in file and \"So\" not in file]\n",
    "\n",
    "print(len(only_boxes_imgs))\n",
    "print(len(only_selfies_imgs))\n",
    "\n",
    "only_boxes_numbers = [int(file.name.split(\"_\")[0]) for file in only_boxes_imgs]\n",
    "only_selfies_numbers = [int(file.name.split(\"_\")[0]) for file in only_selfies_imgs]"
   ]
  },
  {
   "cell_type": "code",
   "execution_count": 9,
   "metadata": {},
   "outputs": [
    {
     "data": {
      "application/vnd.microsoft.datawrangler.viewer.v0+json": {
       "columns": [
        {
         "name": "index",
         "rawType": "int64",
         "type": "integer"
        },
        {
         "name": "number",
         "rawType": "int64",
         "type": "integer"
        }
       ],
       "ref": "55c6d300-7b83-4e13-9806-d5ce71ece0a1",
       "rows": [
        [
         "0",
         "1"
        ],
        [
         "1",
         "2"
        ],
        [
         "2",
         "3"
        ],
        [
         "3",
         "4"
        ],
        [
         "4",
         "5"
        ],
        [
         "5",
         "6"
        ],
        [
         "6",
         "7"
        ],
        [
         "7",
         "8"
        ],
        [
         "8",
         "9"
        ],
        [
         "9",
         "10"
        ],
        [
         "10",
         "11"
        ],
        [
         "11",
         "12"
        ],
        [
         "12",
         "13"
        ],
        [
         "13",
         "14"
        ],
        [
         "14",
         "15"
        ],
        [
         "15",
         "16"
        ],
        [
         "16",
         "17"
        ],
        [
         "17",
         "18"
        ],
        [
         "18",
         "19"
        ],
        [
         "19",
         "20"
        ],
        [
         "20",
         "21"
        ],
        [
         "21",
         "22"
        ],
        [
         "22",
         "23"
        ],
        [
         "23",
         "24"
        ],
        [
         "24",
         "25"
        ],
        [
         "25",
         "26"
        ],
        [
         "26",
         "27"
        ],
        [
         "27",
         "28"
        ],
        [
         "28",
         "29"
        ],
        [
         "29",
         "30"
        ],
        [
         "30",
         "31"
        ],
        [
         "31",
         "32"
        ],
        [
         "32",
         "33"
        ],
        [
         "33",
         "34"
        ],
        [
         "34",
         "35"
        ],
        [
         "35",
         "36"
        ],
        [
         "36",
         "37"
        ],
        [
         "37",
         "38"
        ],
        [
         "38",
         "39"
        ],
        [
         "39",
         "40"
        ],
        [
         "40",
         "41"
        ],
        [
         "41",
         "42"
        ],
        [
         "42",
         "43"
        ],
        [
         "43",
         "44"
        ],
        [
         "44",
         "45"
        ],
        [
         "45",
         "46"
        ],
        [
         "46",
         "47"
        ],
        [
         "47",
         "48"
        ],
        [
         "48",
         "49"
        ],
        [
         "49",
         "50"
        ]
       ],
       "shape": {
        "columns": 1,
        "rows": 222
       }
      },
      "text/plain": [
       "0        1\n",
       "1        2\n",
       "2        3\n",
       "3        4\n",
       "4        5\n",
       "      ... \n",
       "217    218\n",
       "218    219\n",
       "219    220\n",
       "220    221\n",
       "221    222\n",
       "Name: number, Length: 222, dtype: int64"
      ]
     },
     "execution_count": 9,
     "metadata": {},
     "output_type": "execute_result"
    }
   ],
   "source": [
    "all_stamps[\"number\"]\n"
   ]
  },
  {
   "cell_type": "code",
   "execution_count": 10,
   "metadata": {},
   "outputs": [],
   "source": [
    "all_stamps[\"box_image\"] = 0\n",
    "\n",
    "for i, row in all_stamps.iterrows():\n",
    "    if row[\"number\"] in only_boxes_numbers:\n",
    "        all_stamps.loc[i, \"box_image\"] = 1\n",
    "    else:\n",
    "        all_stamps.loc[i, \"box_image\"] = 0\n",
    "\n",
    "all_stamps[\"selfie_image\"] = 0\n",
    "for i, row in all_stamps.iterrows():\n",
    "    if row[\"number\"] in only_selfies_numbers:\n",
    "        all_stamps.loc[i, \"selfie_image\"] = 1\n",
    "    else:\n",
    "        all_stamps.loc[i, \"selfie_image\"] = 0\n"
   ]
  },
  {
   "cell_type": "code",
   "execution_count": 11,
   "metadata": {},
   "outputs": [
    {
     "name": "stderr",
     "output_type": "stream",
     "text": [
      "/var/folders/87/_jvy15c55mx0cfd6dqw9v64r0000gn/T/ipykernel_9463/224945285.py:3: FutureWarning: Setting an item of incompatible dtype is deprecated and will raise an error in a future version of pandas. Value 'no_selfie' has dtype incompatible with int64, please explicitly cast to a compatible dtype first.\n",
      "  all_stamps.loc[i, \"selfie_image\"] = \"no_selfie\"\n",
      "/var/folders/87/_jvy15c55mx0cfd6dqw9v64r0000gn/T/ipykernel_9463/224945285.py:7: FutureWarning: Setting an item of incompatible dtype is deprecated and will raise an error in a future version of pandas. Value 'no_box' has dtype incompatible with int64, please explicitly cast to a compatible dtype first.\n",
      "  all_stamps.loc[i, \"box_image\"] = \"no_box\"\n"
     ]
    }
   ],
   "source": [
    "for i, row in all_stamps.iterrows():\n",
    "    if row[\"box_image\"] ==1 and not row[\"selfie_image\"] == 1:\n",
    "        all_stamps.loc[i, \"selfie_image\"] = \"no_selfie\"\n",
    "        \n",
    "for i, row in all_stamps.iterrows():\n",
    "    if row[\"visited_by_me\"] ==1 and not row[\"box_image\"] == 1:\n",
    "        all_stamps.loc[i, \"box_image\"] = \"no_box\""
   ]
  },
  {
   "cell_type": "code",
   "execution_count": 12,
   "metadata": {},
   "outputs": [
    {
     "data": {
      "application/vnd.microsoft.datawrangler.viewer.v0+json": {
       "columns": [
        {
         "name": "index",
         "rawType": "int64",
         "type": "integer"
        },
        {
         "name": "number",
         "rawType": "int64",
         "type": "integer"
        },
        {
         "name": "name",
         "rawType": "object",
         "type": "string"
        },
        {
         "name": "latitude",
         "rawType": "float64",
         "type": "float"
        },
        {
         "name": "longitude",
         "rawType": "float64",
         "type": "float"
        },
        {
         "name": "elevation",
         "rawType": "int64",
         "type": "integer"
        },
        {
         "name": "description",
         "rawType": "object",
         "type": "string"
        },
        {
         "name": "comment",
         "rawType": "object",
         "type": "string"
        },
        {
         "name": "hexe",
         "rawType": "int64",
         "type": "integer"
        },
        {
         "name": "steiger",
         "rawType": "int64",
         "type": "integer"
        },
        {
         "name": "grenze",
         "rawType": "int64",
         "type": "integer"
        },
        {
         "name": "goethe",
         "rawType": "int64",
         "type": "integer"
        },
        {
         "name": "visited_by_me",
         "rawType": "int64",
         "type": "integer"
        },
        {
         "name": "box_image",
         "rawType": "object",
         "type": "unknown"
        },
        {
         "name": "selfie_image",
         "rawType": "object",
         "type": "unknown"
        }
       ],
       "ref": "50edce11-1b82-44c3-a9b1-1756de29119a",
       "rows": [
        [
         "0",
         "1",
         "HWN001 Eckertalsperre",
         "51.841649",
         "10.5799757",
         "555",
         "Eckertalsperre (Staumauer)",
         "Eckertalsperre (Staumauer)",
         "0",
         "0",
         "1",
         "0",
         "1",
         "1",
         "1"
        ],
        [
         "1",
         "2",
         "HWN002 Scharfenstein",
         "51.8301677",
         "10.6027742",
         "635",
         "Scharfenstein (Rangerstation)",
         "Scharfenstein (Rangerstation)",
         "0",
         "0",
         "1",
         "0",
         "0",
         "0",
         "0"
        ],
        [
         "2",
         "3",
         "HWN003 Am Kruzifix",
         "51.84415",
         "10.61161",
         "567",
         "Am Kruzifix (Schutzhütte)",
         "Am Kruzifix (Schutzhütte)",
         "0",
         "0",
         "1",
         "0",
         "0",
         "0",
         "0"
        ],
        [
         "3",
         "4",
         "HWN004 Taubenklippe",
         "51.862558",
         "10.618166",
         "555",
         "Taubenklippe",
         "Taubenklippe",
         "0",
         "0",
         "1",
         "0",
         "0",
         "0",
         "0"
        ],
        [
         "4",
         "5",
         "HWN005 Froschfelsen",
         "51.8519155",
         "10.6545704",
         "523",
         "Froschfelsen",
         "Froschfelsen",
         "0",
         "0",
         "0",
         "0",
         "0",
         "0",
         "0"
        ],
        [
         "5",
         "6",
         "HWN006 Obere Ilsefälle",
         "51.8286834",
         "10.63485",
         "556",
         "Obere Ilsefälle (Bremer Hütte)",
         "Obere Ilsefälle (Bremer Hütte)",
         "0",
         "0",
         "0",
         "0",
         "0",
         "0",
         "0"
        ],
        [
         "6",
         "7",
         "HWN007 Gasthaus Plessenburg",
         "51.83187",
         "10.66819",
         "551",
         "Gasthaus Plessenburg",
         "Gasthaus Plessenburg",
         "0",
         "0",
         "0",
         "0",
         "1",
         "1",
         "1"
        ],
        [
         "7",
         "8",
         "HWN008 Stempelsbuche",
         "51.8193666",
         "10.6279167",
         "650",
         "Stempelsbuche",
         "Stempelsbuche",
         "0",
         "0",
         "0",
         "0",
         "0",
         "0",
         "0"
        ],
        [
         "8",
         "9",
         "HWN009 Brockenhaus",
         "51.8005385",
         "10.6157828",
         "1124",
         "Brockenhaus",
         "Brockenhaus",
         "1",
         "0",
         "1",
         "1",
         "1",
         "1",
         "no_selfie"
        ],
        [
         "9",
         "10",
         "HWN010 Große Zeterklippe",
         "51.8026431",
         "10.6433484",
         "922",
         "Große Zeterklippe",
         "Große Zeterklippe",
         "0",
         "0",
         "1",
         "0",
         "0",
         "0",
         "0"
        ],
        [
         "10",
         "11",
         "HWN011 Eckerloch",
         "51.7849852",
         "10.6179225",
         "922",
         "Eckerloch",
         "Eckerloch",
         "0",
         "0",
         "1",
         "0",
         "0",
         "0",
         "0"
        ],
        [
         "11",
         "12",
         "HWN012 Achtermannshöhe",
         "51.76145",
         "10.5691333",
         "896",
         "Achtermannshöhe",
         "Achtermannshöhe",
         "0",
         "0",
         "0",
         "0",
         "0",
         "0",
         "0"
        ],
        [
         "12",
         "13",
         "HWN013 Ahrentsklint",
         "51.7735635",
         "10.6671864",
         "806",
         "Ahrentsklint",
         "Ahrentsklint",
         "1",
         "0",
         "0",
         "1",
         "1",
         "no_box",
         "0"
        ],
        [
         "13",
         "14",
         "HWN014 Schnarcherklippe",
         "51.75425",
         "10.66585",
         "671",
         "Schnarcherklippe (Schutzhütte)",
         "Schnarcherklippe (Schutzhütte)",
         "0",
         "0",
         "0",
         "1",
         "1",
         "no_box",
         "0"
        ],
        [
         "14",
         "15",
         "HWN015 Leistenklippe",
         "51.7815216",
         "10.6937767",
         "879",
         "Leistenklippe",
         "Leistenklippe",
         "0",
         "0",
         "0",
         "0",
         "0",
         "0",
         "0"
        ],
        [
         "15",
         "16",
         "HWN016 Ferdinands Stein",
         "51.8234967",
         "10.6521028",
         "650",
         "Ferdinands Stein",
         "Ferdinands Stein",
         "0",
         "0",
         "0",
         "0",
         "0",
         "0",
         "0"
        ],
        [
         "16",
         "17",
         "HWN017 Trudenstein",
         "51.7721776",
         "10.6965632",
         "750",
         "Trudenstein",
         "Trudenstein",
         "1",
         "0",
         "0",
         "0",
         "1",
         "no_box",
         "0"
        ],
        [
         "17",
         "18",
         "HWN018 Grenzweg am Kaffeehorst",
         "51.7518251",
         "10.6324505",
         "739",
         "Grenzweg am Kaffeehorst",
         "Grenzweg am Kaffeehorst",
         "0",
         "0",
         "1",
         "0",
         "1",
         "1",
         "1"
        ],
        [
         "18",
         "19",
         "HWN019 Skidenkmal",
         "51.8203667",
         "10.5729833",
         "655",
         "Skidenkmal",
         "Skidenkmal",
         "0",
         "0",
         "1",
         "0",
         "1",
         "1",
         "1"
        ],
        [
         "19",
         "20",
         "HWN020 Barrenberg",
         "51.7503211",
         "10.6750453",
         "612",
         "Barrenberg (Aussichtspunkt)",
         "Barrenberg (Aussichtspunkt)",
         "0",
         "0",
         "0",
         "0",
         "1",
         "no_box",
         "0"
        ],
        [
         "20",
         "21",
         "HWN021 Heleneruh",
         "51.7540669",
         "10.6809074",
         "623",
         "Heleneruh - Elend",
         "Heleneruh - Elend",
         "0",
         "0",
         "0",
         "0",
         "1",
         "no_box",
         "0"
        ],
        [
         "21",
         "22",
         "HWN022 Gelber Brink",
         "51.7910164",
         "10.6448051",
         "911",
         "Gelber Brink",
         "Gelber Brink",
         "1",
         "0",
         "0",
         "0",
         "0",
         "0",
         "0"
        ],
        [
         "22",
         "23",
         "HWN023 Molkenhausstern",
         "51.8077069",
         "10.6577926",
         "747",
         "Molkenhausstern",
         "Molkenhausstern",
         "0",
         "0",
         "0",
         "0",
         "0",
         "0",
         "0"
        ],
        [
         "23",
         "24",
         "HWN024 Wolfsklippe",
         "51.8194709",
         "10.670517",
         "699",
         "Wolfsklippe",
         "Wolfsklippe",
         "0",
         "0",
         "0",
         "0",
         "0",
         "0",
         "0"
        ],
        [
         "24",
         "25",
         "HWN025 Oberförster-Koch-Denkmal",
         "51.8252754",
         "10.6883964",
         "522",
         "Oberförster-Koch-Denkmal",
         "Oberförster-Koch-Denkmal",
         "0",
         "0",
         "0",
         "0",
         "1",
         "1",
         "1"
        ],
        [
         "25",
         "26",
         "HWN026 Mönchsbuche",
         "51.8178253",
         "10.7078852",
         "508",
         "Mönchsbuche",
         "Mönchsbuche",
         "0",
         "0",
         "0",
         "0",
         "1",
         "1",
         "1"
        ],
        [
         "26",
         "27",
         "HWN027 Ottofelsen",
         "51.796689",
         "10.7119521",
         "602",
         "Ottofelsen",
         "Ottofelsen",
         "0",
         "0",
         "0",
         "0",
         "0",
         "0",
         "0"
        ],
        [
         "27",
         "28",
         "HWN028 Gasthaus Steinerne Renne",
         "51.8049419",
         "10.6997721",
         "533",
         "Gasthaus Steinerne Renne",
         "Gasthaus Steinerne Renne",
         "0",
         "0",
         "0",
         "0",
         "0",
         "0",
         "0"
        ],
        [
         "28",
         "29",
         "HWN029 Elversstein",
         "51.8044443",
         "10.7347223",
         "471",
         "Elversstein",
         "Elversstein",
         "0",
         "0",
         "0",
         "0",
         "0",
         "0",
         "0"
        ],
        [
         "29",
         "30",
         "HWN030 Ilsestein",
         "51.8463368",
         "10.6631266",
         "444",
         "Ilsestein",
         "Ilsestein",
         "0",
         "0",
         "0",
         "0",
         "1",
         "1",
         "1"
        ],
        [
         "30",
         "31",
         "HWN031 Agnesberg",
         "51.8300303",
         "10.7979608",
         "366",
         "Agnesberg",
         "Agnesberg",
         "0",
         "0",
         "0",
         "1",
         "1",
         "1",
         "1"
        ],
        [
         "31",
         "32",
         "HWN032 Gasthaus Christianental",
         "51.827537",
         "10.81259",
         "316",
         "Gasthaus Christianental",
         "Gasthaus Christianental",
         "0",
         "0",
         "0",
         "0",
         "1",
         "1",
         "1"
        ],
        [
         "32",
         "33",
         "HWN033 Stapenberg",
         "51.8261332",
         "10.84825",
         "437",
         "Stapenberg",
         "Stapenberg",
         "0",
         "0",
         "0",
         "0",
         "0",
         "0",
         "0"
        ],
        [
         "33",
         "34",
         "HWN034 Scharfenstein",
         "51.8100167",
         "10.7984",
         "463",
         "Scharfenstein",
         "Scharfenstein",
         "0",
         "0",
         "0",
         "0",
         "1",
         "1",
         "1"
        ],
        [
         "34",
         "35",
         "HWN035 Gasthaus Armeleuteberg",
         "51.8154458",
         "10.7766306",
         "444",
         "Gasthaus Armeleuteberg",
         "Gasthaus Armeleuteberg",
         "0",
         "0",
         "0",
         "0",
         "1",
         "1",
         "1"
        ],
        [
         "35",
         "36",
         "HWN036 Peterstein",
         "51.7922222",
         "10.7802778",
         "476",
         "Peterstein",
         "Peterstein",
         "0",
         "0",
         "0",
         "0",
         "0",
         "0",
         "0"
        ],
        [
         "36",
         "37",
         "HWN037 Büchenberg",
         "51.791039",
         "10.818419",
         "480",
         "Büchenberg",
         "Büchenberg",
         "0",
         "1",
         "0",
         "0",
         "0",
         "0",
         "0"
        ],
        [
         "37",
         "38",
         "HWN038 Galgenberg",
         "51.7737968",
         "10.8167666",
         "496",
         "Galgenberg",
         "Galgenberg",
         "0",
         "0",
         "0",
         "1",
         "0",
         "0",
         "0"
        ],
        [
         "38",
         "39",
         "HWN039 Tagebau Felswerke",
         "51.7599656",
         "10.8018373",
         "483",
         "Tagebau Felswerke",
         "Tagebau Felswerke",
         "0",
         "1",
         "0",
         "0",
         "0",
         "0",
         "0"
        ],
        [
         "39",
         "40",
         "HWN040 Königshütter Wasserfall",
         "51.751006",
         "10.753066",
         "448",
         "Königshütter Wasserfall",
         "Königshütter Wasserfall",
         "1",
         "0",
         "0",
         "0",
         "0",
         "0",
         "0"
        ],
        [
         "40",
         "41",
         "HWN041 Ruine Königsburg",
         "51.7384135",
         "10.7671901",
         "463",
         "Ruine Königsburg",
         "Ruine Königsburg",
         "1",
         "0",
         "0",
         "1",
         "0",
         "0",
         "0"
        ],
        [
         "41",
         "42",
         "HWN042 Trogfurter Brücke",
         "51.7355836",
         "10.8050534",
         "425",
         "Trogfurter Brücke",
         "Trogfurter Brücke",
         "1",
         "0",
         "0",
         "1",
         "0",
         "0",
         "0"
        ],
        [
         "42",
         "43",
         "HWN043 Hohe Tür - Wasserscheide Weser-Elbe",
         "51.61864",
         "10.50431",
         "430",
         "Wasserscheide Weser-Elbe\n„Hohe Tür“",
         "Wasserscheide Weser-Elbe\n„Hohe Tür“",
         "0",
         "0",
         "0",
         "0",
         "1",
         "1",
         "1"
        ],
        [
         "43",
         "44",
         "HWN044 Kapitelsberg",
         "51.7055931",
         "10.7408945",
         "525",
         "Kapitelsberg",
         "Kapitelsberg",
         "0",
         "0",
         "0",
         "0",
         "0",
         "0",
         "0"
        ],
        [
         "44",
         "45",
         "HWN045 Dicke Tannen",
         "51.65725",
         "10.6480667",
         "430",
         "Dicke Tannen",
         "Dicke Tannen",
         "0",
         "0",
         "0",
         "0",
         "0",
         "0",
         "0"
        ],
        [
         "45",
         "46",
         "HWN046 Grenzmuseum (Ring der Erinnerung)",
         "51.6936",
         "10.6667",
         "553",
         "Grenzmuseum (Ring der Erinnerung)",
         "Grenzmuseum (Ring der Erinnerung)",
         "0",
         "0",
         "1",
         "0",
         "0",
         "0",
         "0"
        ],
        [
         "46",
         "47",
         "HWN047 Oberharzblick am Buchenberg",
         "51.65288",
         "10.74871",
         "581",
         "Oberharzblick am Buchenberg",
         "Oberharzblick am Buchenberg",
         "0",
         "0",
         "0",
         "0",
         "0",
         "0",
         "0"
        ],
        [
         "47",
         "48",
         "HWN048 Stierbergsteich",
         "51.641085",
         "10.757109",
         "556",
         "Stierbergsteich",
         "Stierbergsteich",
         "0",
         "0",
         "0",
         "0",
         "0",
         "0",
         "0"
        ],
        [
         "48",
         "49",
         "HWN049 Grüntal",
         "51.6766016",
         "10.7553331",
         "525",
         "Grüntal",
         "Grüntal",
         "0",
         "0",
         "0",
         "0",
         "0",
         "0",
         "0"
        ],
        [
         "49",
         "50",
         "HWN050 Walzenhütte",
         "51.661033",
         "10.767211",
         "525",
         "Walzenhütte",
         "Walzenhütte",
         "0",
         "0",
         "0",
         "0",
         "0",
         "0",
         "0"
        ]
       ],
       "shape": {
        "columns": 14,
        "rows": 222
       }
      },
      "text/html": [
       "<div>\n",
       "<style scoped>\n",
       "    .dataframe tbody tr th:only-of-type {\n",
       "        vertical-align: middle;\n",
       "    }\n",
       "\n",
       "    .dataframe tbody tr th {\n",
       "        vertical-align: top;\n",
       "    }\n",
       "\n",
       "    .dataframe thead th {\n",
       "        text-align: right;\n",
       "    }\n",
       "</style>\n",
       "<table border=\"1\" class=\"dataframe\">\n",
       "  <thead>\n",
       "    <tr style=\"text-align: right;\">\n",
       "      <th></th>\n",
       "      <th>number</th>\n",
       "      <th>name</th>\n",
       "      <th>latitude</th>\n",
       "      <th>longitude</th>\n",
       "      <th>elevation</th>\n",
       "      <th>description</th>\n",
       "      <th>comment</th>\n",
       "      <th>hexe</th>\n",
       "      <th>steiger</th>\n",
       "      <th>grenze</th>\n",
       "      <th>goethe</th>\n",
       "      <th>visited_by_me</th>\n",
       "      <th>box_image</th>\n",
       "      <th>selfie_image</th>\n",
       "    </tr>\n",
       "  </thead>\n",
       "  <tbody>\n",
       "    <tr>\n",
       "      <th>0</th>\n",
       "      <td>1</td>\n",
       "      <td>HWN001 Eckertalsperre</td>\n",
       "      <td>51.841649</td>\n",
       "      <td>10.579976</td>\n",
       "      <td>555</td>\n",
       "      <td>Eckertalsperre (Staumauer)</td>\n",
       "      <td>Eckertalsperre (Staumauer)</td>\n",
       "      <td>0</td>\n",
       "      <td>0</td>\n",
       "      <td>1</td>\n",
       "      <td>0</td>\n",
       "      <td>1</td>\n",
       "      <td>1</td>\n",
       "      <td>1</td>\n",
       "    </tr>\n",
       "    <tr>\n",
       "      <th>1</th>\n",
       "      <td>2</td>\n",
       "      <td>HWN002 Scharfenstein</td>\n",
       "      <td>51.830168</td>\n",
       "      <td>10.602774</td>\n",
       "      <td>635</td>\n",
       "      <td>Scharfenstein (Rangerstation)</td>\n",
       "      <td>Scharfenstein (Rangerstation)</td>\n",
       "      <td>0</td>\n",
       "      <td>0</td>\n",
       "      <td>1</td>\n",
       "      <td>0</td>\n",
       "      <td>0</td>\n",
       "      <td>0</td>\n",
       "      <td>0</td>\n",
       "    </tr>\n",
       "    <tr>\n",
       "      <th>2</th>\n",
       "      <td>3</td>\n",
       "      <td>HWN003 Am Kruzifix</td>\n",
       "      <td>51.844150</td>\n",
       "      <td>10.611610</td>\n",
       "      <td>567</td>\n",
       "      <td>Am Kruzifix (Schutzhütte)</td>\n",
       "      <td>Am Kruzifix (Schutzhütte)</td>\n",
       "      <td>0</td>\n",
       "      <td>0</td>\n",
       "      <td>1</td>\n",
       "      <td>0</td>\n",
       "      <td>0</td>\n",
       "      <td>0</td>\n",
       "      <td>0</td>\n",
       "    </tr>\n",
       "    <tr>\n",
       "      <th>3</th>\n",
       "      <td>4</td>\n",
       "      <td>HWN004 Taubenklippe</td>\n",
       "      <td>51.862558</td>\n",
       "      <td>10.618166</td>\n",
       "      <td>555</td>\n",
       "      <td>Taubenklippe</td>\n",
       "      <td>Taubenklippe</td>\n",
       "      <td>0</td>\n",
       "      <td>0</td>\n",
       "      <td>1</td>\n",
       "      <td>0</td>\n",
       "      <td>0</td>\n",
       "      <td>0</td>\n",
       "      <td>0</td>\n",
       "    </tr>\n",
       "    <tr>\n",
       "      <th>4</th>\n",
       "      <td>5</td>\n",
       "      <td>HWN005 Froschfelsen</td>\n",
       "      <td>51.851915</td>\n",
       "      <td>10.654570</td>\n",
       "      <td>523</td>\n",
       "      <td>Froschfelsen</td>\n",
       "      <td>Froschfelsen</td>\n",
       "      <td>0</td>\n",
       "      <td>0</td>\n",
       "      <td>0</td>\n",
       "      <td>0</td>\n",
       "      <td>0</td>\n",
       "      <td>0</td>\n",
       "      <td>0</td>\n",
       "    </tr>\n",
       "    <tr>\n",
       "      <th>...</th>\n",
       "      <td>...</td>\n",
       "      <td>...</td>\n",
       "      <td>...</td>\n",
       "      <td>...</td>\n",
       "      <td>...</td>\n",
       "      <td>...</td>\n",
       "      <td>...</td>\n",
       "      <td>...</td>\n",
       "      <td>...</td>\n",
       "      <td>...</td>\n",
       "      <td>...</td>\n",
       "      <td>...</td>\n",
       "      <td>...</td>\n",
       "      <td>...</td>\n",
       "    </tr>\n",
       "    <tr>\n",
       "      <th>217</th>\n",
       "      <td>218</td>\n",
       "      <td>HWN218 Neustädter Talsperre</td>\n",
       "      <td>51.578883</td>\n",
       "      <td>10.863333</td>\n",
       "      <td>460</td>\n",
       "      <td>Neustädter Talsperre</td>\n",
       "      <td>Neustädter Talsperre</td>\n",
       "      <td>0</td>\n",
       "      <td>0</td>\n",
       "      <td>0</td>\n",
       "      <td>0</td>\n",
       "      <td>1</td>\n",
       "      <td>1</td>\n",
       "      <td>1</td>\n",
       "    </tr>\n",
       "    <tr>\n",
       "      <th>218</th>\n",
       "      <td>219</td>\n",
       "      <td>HWN219 Wippertalsperre</td>\n",
       "      <td>51.569720</td>\n",
       "      <td>11.192660</td>\n",
       "      <td>300</td>\n",
       "      <td>Wippertalsperre Bank am Rundweg</td>\n",
       "      <td>Wippertalsperre Bank am Rundweg</td>\n",
       "      <td>0</td>\n",
       "      <td>0</td>\n",
       "      <td>0</td>\n",
       "      <td>0</td>\n",
       "      <td>0</td>\n",
       "      <td>0</td>\n",
       "      <td>0</td>\n",
       "    </tr>\n",
       "    <tr>\n",
       "      <th>219</th>\n",
       "      <td>220</td>\n",
       "      <td>HWN220 Phillippsgruß</td>\n",
       "      <td>51.609504</td>\n",
       "      <td>10.531842</td>\n",
       "      <td>464</td>\n",
       "      <td>Phillippsgruß</td>\n",
       "      <td>Phillippsgruß</td>\n",
       "      <td>0</td>\n",
       "      <td>0</td>\n",
       "      <td>0</td>\n",
       "      <td>0</td>\n",
       "      <td>0</td>\n",
       "      <td>0</td>\n",
       "      <td>0</td>\n",
       "    </tr>\n",
       "    <tr>\n",
       "      <th>220</th>\n",
       "      <td>221</td>\n",
       "      <td>HWN221 Jungfernklippe</td>\n",
       "      <td>51.804200</td>\n",
       "      <td>10.513817</td>\n",
       "      <td>650</td>\n",
       "      <td>Jungfernklippe</td>\n",
       "      <td>Jungfernklippe</td>\n",
       "      <td>0</td>\n",
       "      <td>0</td>\n",
       "      <td>0</td>\n",
       "      <td>0</td>\n",
       "      <td>1</td>\n",
       "      <td>1</td>\n",
       "      <td>1</td>\n",
       "    </tr>\n",
       "    <tr>\n",
       "      <th>221</th>\n",
       "      <td>222</td>\n",
       "      <td>HWN222 Bergbaulehrpfad Wettelrode</td>\n",
       "      <td>51.520380</td>\n",
       "      <td>11.276940</td>\n",
       "      <td>343</td>\n",
       "      <td>Bergbaulehrpfad Wettelrode</td>\n",
       "      <td>Bergbaulehrpfad Wettelrode</td>\n",
       "      <td>0</td>\n",
       "      <td>1</td>\n",
       "      <td>0</td>\n",
       "      <td>0</td>\n",
       "      <td>0</td>\n",
       "      <td>0</td>\n",
       "      <td>0</td>\n",
       "    </tr>\n",
       "  </tbody>\n",
       "</table>\n",
       "<p>222 rows × 14 columns</p>\n",
       "</div>"
      ],
      "text/plain": [
       "     number                               name   latitude  longitude  \\\n",
       "0         1              HWN001 Eckertalsperre  51.841649  10.579976   \n",
       "1         2               HWN002 Scharfenstein  51.830168  10.602774   \n",
       "2         3                 HWN003 Am Kruzifix  51.844150  10.611610   \n",
       "3         4                HWN004 Taubenklippe  51.862558  10.618166   \n",
       "4         5                HWN005 Froschfelsen  51.851915  10.654570   \n",
       "..      ...                                ...        ...        ...   \n",
       "217     218        HWN218 Neustädter Talsperre  51.578883  10.863333   \n",
       "218     219             HWN219 Wippertalsperre  51.569720  11.192660   \n",
       "219     220               HWN220 Phillippsgruß  51.609504  10.531842   \n",
       "220     221              HWN221 Jungfernklippe  51.804200  10.513817   \n",
       "221     222  HWN222 Bergbaulehrpfad Wettelrode  51.520380  11.276940   \n",
       "\n",
       "     elevation                      description  \\\n",
       "0          555       Eckertalsperre (Staumauer)   \n",
       "1          635    Scharfenstein (Rangerstation)   \n",
       "2          567        Am Kruzifix (Schutzhütte)   \n",
       "3          555                     Taubenklippe   \n",
       "4          523                     Froschfelsen   \n",
       "..         ...                              ...   \n",
       "217        460             Neustädter Talsperre   \n",
       "218        300  Wippertalsperre Bank am Rundweg   \n",
       "219        464                    Phillippsgruß   \n",
       "220        650                   Jungfernklippe   \n",
       "221        343       Bergbaulehrpfad Wettelrode   \n",
       "\n",
       "                             comment  hexe  steiger  grenze  goethe  \\\n",
       "0         Eckertalsperre (Staumauer)     0        0       1       0   \n",
       "1      Scharfenstein (Rangerstation)     0        0       1       0   \n",
       "2          Am Kruzifix (Schutzhütte)     0        0       1       0   \n",
       "3                       Taubenklippe     0        0       1       0   \n",
       "4                       Froschfelsen     0        0       0       0   \n",
       "..                               ...   ...      ...     ...     ...   \n",
       "217             Neustädter Talsperre     0        0       0       0   \n",
       "218  Wippertalsperre Bank am Rundweg     0        0       0       0   \n",
       "219                    Phillippsgruß     0        0       0       0   \n",
       "220                   Jungfernklippe     0        0       0       0   \n",
       "221       Bergbaulehrpfad Wettelrode     0        1       0       0   \n",
       "\n",
       "     visited_by_me box_image selfie_image  \n",
       "0                1         1            1  \n",
       "1                0         0            0  \n",
       "2                0         0            0  \n",
       "3                0         0            0  \n",
       "4                0         0            0  \n",
       "..             ...       ...          ...  \n",
       "217              1         1            1  \n",
       "218              0         0            0  \n",
       "219              0         0            0  \n",
       "220              1         1            1  \n",
       "221              0         0            0  \n",
       "\n",
       "[222 rows x 14 columns]"
      ]
     },
     "execution_count": 12,
     "metadata": {},
     "output_type": "execute_result"
    }
   ],
   "source": [
    "all_stamps"
   ]
  },
  {
   "cell_type": "code",
   "execution_count": null,
   "metadata": {},
   "outputs": [],
   "source": [
    "print(f\"All images of boxes: {all_stamps['box_image'].sum()}\")\n",
    "print(f\"All images of selfies: {all_stamps['selfie_image'].sum()}\")"
   ]
  },
  {
   "cell_type": "code",
   "execution_count": null,
   "metadata": {},
   "outputs": [],
   "source": [
    "all_stamps.to_excel( \n",
    "                    Path(path_to_source, \"excel\", 'all_stamps_visited.xlsx'), index=False)"
   ]
  },
  {
   "cell_type": "code",
   "execution_count": null,
   "metadata": {},
   "outputs": [],
   "source": []
  }
 ],
 "metadata": {
  "colab": {
   "authorship_tag": "ABX9TyPzrj1VP+qDg73O8MJjChKP",
   "mount_file_id": "1MWjzFCXF_xL7STFQYxNIPuFAqvpQUdya",
   "provenance": [],
   "toc_visible": true
  },
  "kernelspec": {
   "display_name": "harz_tsp",
   "language": "python",
   "name": "python3"
  },
  "language_info": {
   "codemirror_mode": {
    "name": "ipython",
    "version": 3
   },
   "file_extension": ".py",
   "mimetype": "text/x-python",
   "name": "python",
   "nbconvert_exporter": "python",
   "pygments_lexer": "ipython3",
   "version": "3.10.12"
  }
 },
 "nbformat": 4,
 "nbformat_minor": 0
}
